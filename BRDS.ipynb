{
 "cells": [
  {
   "cell_type": "markdown",
   "metadata": {
    "collapsed": true
   },
   "source": [
    "# Swedes have the best Haskell: Jumping to conclusions with barroom data science \n",
    "\n",
    "_This is a Jupyter notebook._\n",
    "\n",
    "_**Disclaimer**:..._\n",
    "\n",
    "A few weeks ago I ordered a copy of [Beautiful Vizualization](http://shop.oreilly.com/product/0636920000617.do), which gathers a few stories from data vizualization experts. Not only is it a great read, but it prompted we to give data vizualization a try. Now of course, you first need data, and I couldn't really find a way to display existing data in a way that hadn't been done a thousand times before. \n",
    "\n",
    "One evening, I was having a drink with a fellow Haskeller, and as we enumerated the names of other Haskellers living in Zurich as well. Something struck me as odd: Zurich is a small city, in a small country. That sounded like too many Haskellers. Are there actually many more people writing Haskell than I thought or is there an usually high concentration in Switzerland? So I had a question, and this is a short summary of my journey to get the answer.\n",
    "\n",
    "## Getting ready\n",
    "\n",
    "There are several topics discussed in this post. First, we'll play a bit with the tools and services I used to get the data. Then, we'll create a few helpers to make it more convenient to handle the data in Haskell. Next we'll pull the data and process it a bit. Finally \n",
    "\n",
    "### The setup\n",
    "Below is a list of the tools and services used throughout this post. I'll introduce them in more depth as we go:\n",
    "\n",
    "* [stack](https://docs.haskellstack.org/en/stable/README/) and its [nix integration](https://docs.haskellstack.org/en/stable/nix_integration/#nix-integration) to handle and build the Haskell and system dependencies\n",
    "* [ihaskell](https://github.com/gibiansky/IHaskell) for running the code with the convenience of a [Jupyter](http://jupyter.org/) notebook\n",
    "* [curl](https://curl.haxx.se/) and [jq](https://stedolan.github.io/jq/) for discovering the APIs\n",
    "\n",
    "Web services to get the data from:\n",
    "\n",
    "* [github](https://developer.github.com/v3/) to get some data about Haskell users and their location\n",
    "* [geonames](http://www.geonames.org/) for country data\n",
    "* [amcharts](https://www.amcharts.com/) for getting the maps shown in the final infographic\n",
    "\n",
    "On the Haskell side we'll use\n",
    "\n",
    "* [wreq](https://hackage.haskell.org/package/wreq) for making the HTTP calls\n",
    "* [aeson](https://hackage.haskell.org/package/aeson) for decoding the data\n",
    "* [timeit](https://hackage.haskell.org/package/timeit) for timing a thing or two\n",
    "* [conduit](https://hackage.haskell.org/package/conduit) for convenience when handling the data\n",
    "* [HaskellR](https://tweag.github.io/HaskellR/) and its suite of libraries for displaying the data"
   ]
  },
  {
   "cell_type": "markdown",
   "metadata": {},
   "source": [
    "## Getting a feel for the APIs\n",
    "\n",
    "Now that that's out of the way, let's get started! We'll need some raw material: a list of Github users. The [github api](https://developer.github.com/v3/) provides us with three endpoints that will come in handy: a [repository search](https://developer.github.com/v3/search/#search-repositories) endpoint, a [repository collaborators](https://developer.github.com/v3/repos/collaborators/) endpoint and a [users](https://developer.github.com/v3/users/) endpoint. We'll get a list of haskell repositories sorted by stars and source our users from there. It will hopefully allow us to get a pool of people who are somewhat involved in the community. We'll try to get a big enough sample so that we don't _only_ consider people who contributed to \"star\" repos.\n",
    "\n",
    "### The GitHub API\n",
    "\n",
    "Here's how the repository [search API](https://developer.github.com/v3/search/#search-repositories) presents itself:\n",
    "\n",
    "```\n",
    "GET /search/repositories\n",
    "```\n",
    "\n",
    "with three parameters: `q` the search string and `sort` and `order` for specifying in what order we want the results to appear (have a look at the API if you're curious about the different options ). We only care about the Haskell repositories so we'll format the search string like this: `q=language:haskell`. As mentioned, we'll want the repositories to be sorted by stars so we'll use `sort=stars` (and hope github provides a sensible default ordering). Let's get `curl` out:\n",
    "\n",
    "``` shell\n",
    "$ curl -s \"https://api.github.com/search/repositories?q=language:haskell&sort=stars\" | head\n",
    "\n",
    "{\n",
    "  \"total_count\": 57197,\n",
    "  \"incomplete_results\": false,\n",
    "  \"items\": [\n",
    "    {\n",
    "      \"id\": 571770,\n",
    "      \"name\": \"pandoc\",\n",
    "      \"full_name\": \"jgm/pandoc\",\n",
    "      \"owner\": {\n",
    "        \"login\": \"jgm\",\n",
    "        \n",
    "```\n",
    "\n",
    "Well, it looks like it worked! We don't really want to go back and forth between the Github API description page and our terminal, so we'll just try to infer what the format it. We just need some bits of information, we're not here to write a complete Github API in Haskell. So what do we have? This looks like a JSON object. Sure. It has an `items` field, of which the key is a JSON array. The elements seem to be... well, it looks like a repository to me! This suggests that [`pandoc`](http://pandoc.org/) is the most-starred Haskell repository, which I'm enclined to believe. Another observation: the owner's `login` (i.e. username) and repo `name` are both provided, but we're mostly interested in the combination of the two: the repo's `full_name`.\n",
    "\n",
    "Let's bring out [`jq`](https://stedolan.github.io/jq/manual/), a tool that I discovered much too late, and that I can only recommend you start using right away. `jq` is _the_ Swiss Army Knife when it comes to playing with JSON from your terminal. Its most simple use is to pretty print JSON, but it also allows you to filter and update JSON. Here's \n",
    "\n",
    "``` shell\n",
    "$ curl -s \"https://api.github.com/search/repositories?q=language:haskell&sort=stars\" | jq '.items | .[0:5] | .[] | .full_name'\n",
    "\n",
    "\"jgm/pandoc\"\n",
    "\"begriffs/postgrest\"\n",
    "\"koalaman/shellcheck\"\n",
    "\"elm-lang/elm-compiler\"\n",
    "\"purescript/purescript\"\n",
    "```\n",
    "\n",
    "Looks like we got it right! We first index into the JSON object with the `items` field, and take five elements from the array (from `0` inclusive to `5` exclusive). Then we traverse the elements (`.[]`) of which we filter everything but the `full_name`. So far, so good, the GitHub API seems well crafted.\n",
    "\n",
    "Next thing on our list: getting a list of the people who contribute to a particular repo. Here's what the [GitHub API documentation](https://developer.github.com/v3/repos/#list-contributors) recommends:\n",
    "\n",
    "```\n",
    "GET /repos/:owner/:repo/contributors\n",
    "```\n",
    "\n",
    "Let's try with pandoc:\n",
    "\n",
    "``` shell\n",
    "$ curl -s 'https://api.github.com/repos/jgm/pandoc/contributors' | head\n",
    "\n",
    "[\n",
    "  {\n",
    "    \"login\": \"jgm\",\n",
    "    \"id\": 3044,\n",
    "    \"avatar_url\": \"https://avatars.githubusercontent.com/u/3044?v=3\",\n",
    "    \"gravatar_id\": \"\",\n",
    "    \"url\": \"https://api.github.com/users/jgm\",\n",
    "    \"html_url\": \"https://github.com/jgm\",\n",
    "    \"followers_url\": \"https://api.github.com/users/jgm/followers\",\n",
    "    \"following_url\": \"https://api.github.com/users/jgm/following{/other_user}\",\n",
    "```\n",
    "\n",
    "Okay, it appears that this time we're getting a JSON array rather than an object. This is just making our life easier:\n",
    "\n",
    "``` shell\n",
    "$ curl -s 'https://api.github.com/repos/jgm/pandoc/contributors' | jq '.[0:5] | .[] | .login'\n",
    "\n",
    "\"jgm\"\n",
    "\"jkr\"\n",
    "\"tarleb\"\n",
    "\"mpickering\"\n",
    "\"lierdakil\"\n",
    "```\n",
    "\n",
    "Nice! However we're still missing a piece of information: Where do those users live? Unfortunately this is not something that the collaborators API can tell us. We'll use a third GitHub API endpoint, namely the one that you use everytime you browse someone's profile:\n",
    "\n",
    "\n",
    "``` shell\n",
    "$ curl -s 'https://api.github.com/users/jgm'   \n",
    "\n",
    "{\n",
    "  \"login\": \"jgm\",\n",
    "  \"id\": 3044,\n",
    "...\n",
    "  \"location\": \"Berkeley, CA\",\n",
    "...\n",
    "}\n",
    "\n",
    "$ curl -s 'https://api.github.com/users/jgm' | jq '.location'\n",
    "\n",
    "\"Berkeley, CA\"\n",
    "```\n",
    "\n",
    "Now is a good time to think about what \"it's just metadata\" means. Ok, let's continue."
   ]
  },
  {
   "cell_type": "markdown",
   "metadata": {},
   "source": [
    "### The geonames API\n",
    "\n",
    "One problem with the data we gathered from GitHub is that we don't get the user's country directly. For instance, in which country is \"Berkeley, CA\" located? Well, \"CA\" is probably California, and California is in the US. Ok. But we don't really want to have to do that for every single user. Rather, we'll let someone else do that for us: enter [geonames.org](http://geonames.org). What is GeoNames?\n",
    "\n",
    "> The GeoNames geographical database covers all countries and contains over eleven million placenames that are available for download free of charge.\n",
    "\n",
    "Sounds good. But how's that going to help, you ask? Well, they too provide a [search API](http://www.geonames.org/export/geonames-search.html). It looks something like this:\n",
    "\n",
    "```\n",
    "GET api.geonames.org/search?\n",
    "```\n",
    "\n",
    "to which we can pass a `q` parameter. Let's try something simple:\n",
    "\n",
    "``` \n",
    "$ curl -s 'api.geonames.org/searchJSON?q=France&username=demo' | jq '.' | head\n",
    "\n",
    "{\n",
    "  \"totalResultsCount\": 144895,\n",
    "  \"geonames\": [\n",
    "    {\n",
    "      \"adminCode1\": \"00\",\n",
    "      \"lng\": \"2\",\n",
    "      \"geonameId\": 3017382,\n",
    "      \"toponymName\": \"Republic of France\",\n",
    "      \"countryId\": \"3017382\",\n",
    "      \"fcl\": \"A\",\n",
    "```\n",
    "\n",
    "The JSON object returned is not pretty printed, as opposed to GitHub's API. That's no problem, `jq` saves the day again. There's another subtelty involved: you have to pass in a username. Thankfully geonames provides the `demo` user for ... demo purposes. Anyhow, looks like we can get some information about France, and more importantly we can guess the format: it's a JSON object that contains a field `geonames`, which contains an array. Let's investigate a bit further and see what kind of elements are contained in the array by inspecting the first element:\n",
    "\n",
    "``` shell\n",
    "$ curl -s 'api.geonames.org/searchJSON?q=France&username=demo' | jq ' .geonames | .[0]'\n",
    "\n",
    "{\n",
    "  \"adminCode1\": \"00\",\n",
    "  \"lng\": \"2\",\n",
    "  \"geonameId\": 3017382,\n",
    "  \"toponymName\": \"Republic of France\",\n",
    "  \"countryId\": \"3017382\",\n",
    "  \"fcl\": \"A\",\n",
    "  \"population\": 64768389,\n",
    "  \"countryCode\": \"FR\",\n",
    "  \"name\": \"France\",\n",
    "  \"fclName\": \"country, state, region,...\",\n",
    "  \"countryName\": \"France\",\n",
    "  \"fcodeName\": \"independent political entity\",\n",
    "  \"adminName1\": \"\",\n",
    "  \"lat\": \"46\",\n",
    "  \"fcode\": \"PCLI\"\n",
    "}\n",
    "```\n",
    "\n",
    "So there are a few interesting fields. Let's see what comes up when we perform a search on \"Berkeley, CA\":\n",
    "\n",
    "``` shell\n",
    "$ curl -s 'api.geonames.org/searchJSON?q=Berkeley,%20CA&username=demo' | jq ' .geonames | .[0]'\n",
    "\n",
    "{\n",
    "  \"adminCode1\": \"CA\",\n",
    "  \"lng\": \"-122.27275\",\n",
    "  \"geonameId\": 5327684,\n",
    "  \"toponymName\": \"Berkeley\",\n",
    "  \"countryId\": \"6252001\",\n",
    "  \"fcl\": \"P\",\n",
    "  \"population\": 112580,\n",
    "  \"countryCode\": \"US\",\n",
    "  \"name\": \"Berkeley\",\n",
    "  \"fclName\": \"city, village,...\",\n",
    "  \"countryName\": \"United States\",\n",
    "  \"fcodeName\": \"populated place\",\n",
    "  \"adminName1\": \"California\",\n",
    "  \"lat\": \"37.87159\",\n",
    "  \"fcode\": \"PPL\"\n",
    "}\n",
    "```\n",
    "\n",
    "You guessed it: we're going to throw our location strings at geonames and grab the country name!\n",
    "\n",
    "``` shell\n",
    "$ curl -s 'api.geonames.org/searchJSON?q=Berkeley,%20CA&username=demo' | jq ' .geonames | .[0] | .countryName'\n",
    "\n",
    "\"United States\"\n",
    "```\n",
    "\n",
    "This is by all means not bullet proof but it's quite enough for our needs. And it's actually pretty good, I encourage you to try out a few locations:\n",
    "\n",
    "``` shell\n",
    "$ curl -s 'api.geonames.org/searchJSON?q=Zurich&username=demo' | jq ' .geonames | .[0] | .countryName'\n",
    "\n",
    "\"Switzerland\"\n",
    "\n",
    "$ curl -s 'api.geonames.org/searchJSON?q=Manchester&username=demo' | jq ' .geonames | .[0] | .countryName'\n",
    "\n",
    "\"United Kingdom\"\n",
    "\n",
    "$ curl -s 'api.geonames.org/searchJSON?q=Brno&username=demo' | jq ' .geonames | .[0] | .countryName'\n",
    "\n",
    "\"Czechia\"\n",
    "```\n",
    "\n",
    "And believe it or not, when you search for a country, you actually get the population as well:\n",
    "\n",
    "``` shell\n",
    "$ curl -s 'api.geonames.org/searchJSON?q=Germany&username=demo' | jq ' .geonames | .[0] | .population'\n",
    "\n",
    "81802257\n",
    "```\n",
    "\n",
    "Quick recap: we are able to get a list of Haskell repositories from GitHub. From those repositories, we're able to draw a pool of users. And once you have a user, you can easily get their location, which might be a city, state, or country. Once we have such a general location, we can query GeoNames to get the country name. And with the country name, we can get the country population. Looks like we have everything we need, let's write some Haskell!"
   ]
  },
  {
   "cell_type": "markdown",
   "metadata": {},
   "source": [
    "## Querying the APIs with Haskell\n",
    "\n",
    "As you'll see, this will be a pretty straight forward step. We only have to translate the `curl` and `jq` commands into Haskell code. We'll leverage the [`wreq`](https://hackage.haskell.org/package/wreq) and [aeson-lens](https://hackage.haskell.org/package/aeson-lens) and it'll be very natural.\n",
    "\n",
    "There's one thing I want to mention: we'll be as lazy as possible when it comes to imports and language extensions. We'll have a very call-by-need approach, we're not expected to know right from the beginning what we'll need down the line. Same goes for class instance of the datatypes we'll introduce, we'll rely on `StandaloneDeriving` when we actually need the instance. Hopefully it will also make it clearer where and why we introduce a new import/library/instance (there's one caveat though: if a package is missing, you have to `stack install` it and restart the kernel).\n",
    "\n",
    "This is going to be `wreq`-heavy; fortunately the API is very straightforward. You basically call `get` on an URL. Then you get a few lenses to play with the result:"
   ]
  },
  {
   "cell_type": "code",
   "execution_count": 2,
   "metadata": {},
   "outputs": [
    {
     "data": {
      "text/plain": [
       "\"jgm/pandoc\"\n",
       "\"begriffs/postgrest\"\n",
       "\"koalaman/shellcheck\"\n",
       "\"purescript/purescript\"\n",
       "\"elm-lang/elm-compiler\""
      ]
     },
     "metadata": {},
     "output_type": "display_data"
    }
   ],
   "source": [
    "{-# LANGUAGE OverloadedStrings #-}\n",
    "\n",
    "import Network.Wreq\n",
    "import Data.Aeson.Lens\n",
    "import Control.Lens\n",
    "\n",
    "r <- get \"https://api.github.com/search/repositories?q=language:haskell&sort=stars\"\n",
    "mapM_ print $ take 5 $ r ^.. responseBody . key \"items\" . values . key \"full_name\" . _String"
   ]
  },
  {
   "cell_type": "markdown",
   "metadata": {},
   "source": [
    "Okay, what just happened. The URL should look familiar, we're querying GitHub's seach API and ask it to give us the most starred repo. `r` is the result/response from performing the request. We could look at its body from `view`ing `responseBody` with `r ^. responseBody` and then decode it with the usual `aeson` functions; however we can do more. The funny `^..` operator comes from the [lens](https://www.stackage.org/haddock/lts-7.16/lens-4.14/Control-Lens-Fold.html#v:-94-..), we'll come back to that in a sec. Let's get back our `jq` filter from earlier, for reference:\n",
    "\n",
    "``` shell\n",
    "$ jq '.items | .[0:5] | .[] | .full_name'\n",
    "```\n",
    "It's a bit different, but not that much. In Haskell we request the `key` `items`, and use `values` to traverse them, very much like you would tell `jq` to filter `.items | .[]`. Since we're traversing, we're operating on one element at a time, of which we want the `key` `\"full_name\"`. Finally, since `lens` is very much typed, we have to tell it that we're expecting a string (actually a `Text`) by asking for the `_String` of the element. The funky `(^..)` operator is very much like `(^.)` for when you're expecting a list of stuff. In our case, because of `values`.\n",
    "\n",
    "Okay, let's list `pandoc`'s contributors:"
   ]
  },
  {
   "cell_type": "code",
   "execution_count": 3,
   "metadata": {
    "scrolled": true
   },
   "outputs": [
    {
     "data": {
      "text/plain": [
       "\"jgm\"\n",
       "\"jkr\"\n",
       "\"tarleb\"\n",
       "\"mpickering\"\n",
       "\"labdsf\""
      ]
     },
     "metadata": {},
     "output_type": "display_data"
    }
   ],
   "source": [
    "r <- get \"https://api.github.com/repos/jgm/pandoc/contributors\"\n",
    "mapM_ print $ take 5 $ r ^.. responseBody . values . key \"login\" . _String"
   ]
  },
  {
   "cell_type": "markdown",
   "metadata": {},
   "source": [
    "No surprise, that's still working. What about the location of a particular user?"
   ]
  },
  {
   "cell_type": "code",
   "execution_count": 4,
   "metadata": {},
   "outputs": [
    {
     "data": {
      "text/plain": [
       "\"Berkeley, CA\""
      ]
     },
     "metadata": {},
     "output_type": "display_data"
    }
   ],
   "source": [
    "r <- get \"https://api.github.com/users/jgm\"\n",
    "r ^?! responseBody . key \"location\" . _String"
   ]
  },
  {
   "cell_type": "markdown",
   "metadata": {},
   "source": [
    "And what about GeoNames?"
   ]
  },
  {
   "cell_type": "code",
   "execution_count": 6,
   "metadata": {},
   "outputs": [
    {
     "data": {
      "text/plain": [
       "\"United States\""
      ]
     },
     "metadata": {},
     "output_type": "display_data"
    }
   ],
   "source": [
    "r <- get \"http://api.geonames.org/searchJSON?q=Berkeley,%20CA&username=demo\"\n",
    "r ^?! responseBody . key \"geonames\" . nth 0 . key \"countryName\" . _String"
   ]
  },
  {
   "cell_type": "code",
   "execution_count": 9,
   "metadata": {
    "scrolled": true
   },
   "outputs": [
    {
     "data": {
      "text/plain": [
       "\"United States\""
      ]
     },
     "metadata": {},
     "output_type": "display_data"
    },
    {
     "data": {
      "text/plain": [
       "310232863"
      ]
     },
     "metadata": {},
     "output_type": "display_data"
    }
   ],
   "source": [
    "r <- get \"http://api.geonames.org/searchJSON?q=United%20States&username=demo\"\n",
    "print $ r ^?! responseBody . key \"geonames\" . nth 0 . key \"countryName\" . _String\n",
    "print $ r ^?! responseBody . key \"geonames\" . nth 0 . key \"population\" . _Integer"
   ]
  },
  {
   "cell_type": "markdown",
   "metadata": {},
   "source": [
    "Oh yeah. Notice that this time we're using `nth 0` instead of `values`, because we only care about the first element. The `(^?!)` just says \"There _might_ be such an element, I don't care. Just crash if you can't find such an element\". If you would rather get a `Maybe` back, use `(^?)`. Here we don't really care, crashing is fine. We'll just tweak our query and rerun the cell. That's the great power of the notebook (and GHCi, of course)."
   ]
  },
  {
   "cell_type": "markdown",
   "metadata": {},
   "source": [
    "Ok, so we've convinced ourselves that we can express those various APIs using Haskell (which shouldn't really come as a surprise). Now let's type up. We'll define a few basic datatypes, but we'll once again to be as lazy as possible and leave most of the typeclass instances for later. Let's see what we've got:"
   ]
  },
  {
   "cell_type": "code",
   "execution_count": 10,
   "metadata": {},
   "outputs": [],
   "source": [
    "{-# LANGUAGE GeneralizedNewtypeDeriving #-}\n",
    "\n",
    "import Data.String (IsString)\n",
    "import qualified Data.Text as T\n",
    "\n",
    "newtype GithubRepo        = GithubRepo        T.Text deriving (IsString, Show) \n",
    "newtype GithubUser        = GithubUser        T.Text deriving (IsString, Show)\n",
    "newtype CountryName       = CountryName       T.Text deriving (IsString, Show)\n",
    "newtype CountryPopulation = CountryPopulation Int    deriving Show\n",
    "data Country = Country { \n",
    "          countryName :: CountryName\n",
    "        , countryPopulation :: CountryPopulation \n",
    "        } deriving Show"
   ]
  },
  {
   "cell_type": "markdown",
   "metadata": {},
   "source": [
    "This should be pretty self-explanatory. The only instance that we derive for all the datatypes is `Show`, because we'll constantly be pretty stuff out. We're also deriving an `IsString` instance for some of the types; those will allow us to go straight from a stringy thing (`\"nmattia\"`) to the typed data (`GithubUser \"nmattia\"`) without having to remember what the constructor's name is. Next, we'll pull the API endpoints as top-level definitions:"
   ]
  },
  {
   "cell_type": "code",
   "execution_count": 11,
   "metadata": {},
   "outputs": [],
   "source": [
    "import Data.Monoid\n",
    "\n",
    "githubApiSearchRepos :: T.Text\n",
    "githubApiSearchRepos = \"https://api.github.com/search/repositories\"\n",
    "\n",
    "githubApiRepos :: GithubRepo -> T.Text\n",
    "githubApiRepos (GithubRepo repo) = \"https://api.github.com/repos/\" <> repo\n",
    "\n",
    "githubApiUsers :: GithubUser -> T.Text\n",
    "githubApiUsers (GithubUser login) = \"https://api.github.com/users/\" <> login\n",
    "\n",
    "githubApiRepoContributors :: GithubRepo -> T.Text\n",
    "githubApiRepoContributors repo = githubApiRepos repo <> \"/contributors\"\n",
    "\n",
    "geonamesApiSearchJSON :: T.Text\n",
    "geonamesApiSearchJSON = \"http://api.geonames.org/searchJSON\""
   ]
  },
  {
   "cell_type": "markdown",
   "metadata": {},
   "source": [
    "We've used the datatypes defined above, which will prevent us from requesting the top repositories of a repository, for instance.\n",
    "\n",
    "Now we'll write some function wrappers to access the APIs. There are some requests that we will potentially send quite a few times, and as such the default limitations of Github and Geonames are not going to be sufficient. With Geonames you can [create a free user](http://www.geonames.org/login), which will allow you to perform up to 30,000 requests a day. The only thing you then need to perform the requests is the username, as we did with `username=demo` above. I keep mine secretly in a file called `.geonames-username`:"
   ]
  },
  {
   "cell_type": "code",
   "execution_count": 13,
   "metadata": {},
   "outputs": [],
   "source": [
    "import qualified Data.Text.IO as T\n",
    "\n",
    "geonamesUsername <- T.readFile \".geonames-username\""
   ]
  },
  {
   "cell_type": "markdown",
   "metadata": {},
   "source": [
    "Next is the `findCountryName` function, which finds a country given a location. It looks very much like the one we drafted earlier. One important thing to notice is that we're now using wreq's mechanisms for encoding query parameters using the `param` lens:"
   ]
  },
  {
   "cell_type": "code",
   "execution_count": 14,
   "metadata": {},
   "outputs": [],
   "source": [
    "findCountryName :: T.Text -> IO (Maybe CountryName)\n",
    "findCountryName place = do\n",
    "    let opts = defaults & param \"q\"        .~ [place]\n",
    "                        & param \"username\" .~ [geonamesUsername]\n",
    "    r <- getWith opts $ T.unpack geonamesApiSearchJSON\n",
    "    return $ CountryName <$> (r ^? responseBody . key \"geonames\" . nth 0 . key \"countryName\" . _String)"
   ]
  },
  {
   "cell_type": "markdown",
   "metadata": {},
   "source": [
    "I first implemented a function that returned a `CountryName` rather than a `Maybe CountryName`, but it turns out that some Github users live in very strange countries (looking at you, people of \"Where do you want me to be?\"). Anyway, let's try it out:"
   ]
  },
  {
   "cell_type": "code",
   "execution_count": 15,
   "metadata": {},
   "outputs": [
    {
     "data": {
      "text/html": [
       "<style>/* Styles used for the Hoogle display in the pager */\n",
       ".hoogle-doc {\n",
       "display: block;\n",
       "padding-bottom: 1.3em;\n",
       "padding-left: 0.4em;\n",
       "}\n",
       ".hoogle-code {\n",
       "display: block;\n",
       "font-family: monospace;\n",
       "white-space: pre;\n",
       "}\n",
       ".hoogle-text {\n",
       "display: block;\n",
       "}\n",
       ".hoogle-name {\n",
       "color: green;\n",
       "font-weight: bold;\n",
       "}\n",
       ".hoogle-head {\n",
       "font-weight: bold;\n",
       "}\n",
       ".hoogle-sub {\n",
       "display: block;\n",
       "margin-left: 0.4em;\n",
       "}\n",
       ".hoogle-package {\n",
       "font-weight: bold;\n",
       "font-style: italic;\n",
       "}\n",
       ".hoogle-module {\n",
       "font-weight: bold;\n",
       "}\n",
       ".hoogle-class {\n",
       "font-weight: bold;\n",
       "}\n",
       ".get-type {\n",
       "color: green;\n",
       "font-weight: bold;\n",
       "font-family: monospace;\n",
       "display: block;\n",
       "white-space: pre-wrap;\n",
       "}\n",
       ".show-type {\n",
       "color: green;\n",
       "font-weight: bold;\n",
       "font-family: monospace;\n",
       "margin-left: 1em;\n",
       "}\n",
       ".mono {\n",
       "font-family: monospace;\n",
       "display: block;\n",
       "}\n",
       ".err-msg {\n",
       "color: red;\n",
       "font-style: italic;\n",
       "font-family: monospace;\n",
       "white-space: pre;\n",
       "display: block;\n",
       "}\n",
       "#unshowable {\n",
       "color: red;\n",
       "font-weight: bold;\n",
       "}\n",
       ".err-msg.in.collapse {\n",
       "padding-top: 0.7em;\n",
       "}\n",
       ".highlight-code {\n",
       "white-space: pre;\n",
       "font-family: monospace;\n",
       "}\n",
       ".suggestion-warning { \n",
       "font-weight: bold;\n",
       "color: rgb(200, 130, 0);\n",
       "}\n",
       ".suggestion-error { \n",
       "font-weight: bold;\n",
       "color: red;\n",
       "}\n",
       ".suggestion-name {\n",
       "font-weight: bold;\n",
       "}\n",
       "</style><span style='color: green; font-weight: bold;'>Just</span><span style='font-family: monospace;'>CountryName \"Switzerland\"</span>"
      ],
      "text/plain": [
       "Just (CountryName \"Switzerland\")"
      ]
     },
     "metadata": {},
     "output_type": "display_data"
    }
   ],
   "source": [
    "findCountryName \"Zurich\""
   ]
  },
  {
   "cell_type": "markdown",
   "metadata": {},
   "source": [
    "All good. Now we'll define `countryByCountryName`, which, given a `CountryName`, basically fetches the population and creates a `Country` object (if everything goes well):"
   ]
  },
  {
   "cell_type": "code",
   "execution_count": 16,
   "metadata": {},
   "outputs": [],
   "source": [
    "countryByCountryName :: CountryName -> IO (Maybe Country)\n",
    "countryByCountryName (CountryName n) = do\n",
    "    let opts = defaults & param \"q\"        .~ [n]\n",
    "                        & param \"username\" .~ [geonamesUsername]\n",
    "    r <- getWith opts $ T.unpack geonamesApiSearchJSON\n",
    "    return $ do name       <- r ^? responseBody . key \"geonames\" . nth 0 . key \"countryName\" . _String\n",
    "                population <- r ^? responseBody . key \"geonames\" . nth 0 . key \"population\" . _Integer\n",
    "                return Country { countryName       = CountryName name\n",
    "                               , countryPopulation = CountryPopulation $ fromIntegral population }"
   ]
  },
  {
   "cell_type": "code",
   "execution_count": 17,
   "metadata": {},
   "outputs": [
    {
     "data": {
      "text/html": [
       "<style>/* Styles used for the Hoogle display in the pager */\n",
       ".hoogle-doc {\n",
       "display: block;\n",
       "padding-bottom: 1.3em;\n",
       "padding-left: 0.4em;\n",
       "}\n",
       ".hoogle-code {\n",
       "display: block;\n",
       "font-family: monospace;\n",
       "white-space: pre;\n",
       "}\n",
       ".hoogle-text {\n",
       "display: block;\n",
       "}\n",
       ".hoogle-name {\n",
       "color: green;\n",
       "font-weight: bold;\n",
       "}\n",
       ".hoogle-head {\n",
       "font-weight: bold;\n",
       "}\n",
       ".hoogle-sub {\n",
       "display: block;\n",
       "margin-left: 0.4em;\n",
       "}\n",
       ".hoogle-package {\n",
       "font-weight: bold;\n",
       "font-style: italic;\n",
       "}\n",
       ".hoogle-module {\n",
       "font-weight: bold;\n",
       "}\n",
       ".hoogle-class {\n",
       "font-weight: bold;\n",
       "}\n",
       ".get-type {\n",
       "color: green;\n",
       "font-weight: bold;\n",
       "font-family: monospace;\n",
       "display: block;\n",
       "white-space: pre-wrap;\n",
       "}\n",
       ".show-type {\n",
       "color: green;\n",
       "font-weight: bold;\n",
       "font-family: monospace;\n",
       "margin-left: 1em;\n",
       "}\n",
       ".mono {\n",
       "font-family: monospace;\n",
       "display: block;\n",
       "}\n",
       ".err-msg {\n",
       "color: red;\n",
       "font-style: italic;\n",
       "font-family: monospace;\n",
       "white-space: pre;\n",
       "display: block;\n",
       "}\n",
       "#unshowable {\n",
       "color: red;\n",
       "font-weight: bold;\n",
       "}\n",
       ".err-msg.in.collapse {\n",
       "padding-top: 0.7em;\n",
       "}\n",
       ".highlight-code {\n",
       "white-space: pre;\n",
       "font-family: monospace;\n",
       "}\n",
       ".suggestion-warning { \n",
       "font-weight: bold;\n",
       "color: rgb(200, 130, 0);\n",
       "}\n",
       ".suggestion-error { \n",
       "font-weight: bold;\n",
       "color: red;\n",
       "}\n",
       ".suggestion-name {\n",
       "font-weight: bold;\n",
       "}\n",
       "</style><span style='color: green; font-weight: bold;'>Just</span><span style='font-family: monospace;'>Country {countryName = CountryName \"Switzerland\", countryPopulation = CountryPopulation 7581000}</span>"
      ],
      "text/plain": [
       "Just (Country {countryName = CountryName \"Switzerland\", countryPopulation = CountryPopulation 7581000})"
      ]
     },
     "metadata": {},
     "output_type": "display_data"
    }
   ],
   "source": [
    "countryByCountryName \"Switzerland\""
   ]
  },
  {
   "cell_type": "markdown",
   "metadata": {},
   "source": [
    "Sweet! Did you know that there are about a million people more in London than in the whole of Switzerland?\n",
    "\n",
    "Geonames is taken care of, let's move to Github. Same here, I created an API [token](https://help.github.com/articles/creating-an-access-token-for-command-line-use/), which bump the requests limits a bit. We'll use that to feed wreq's authentication mechanisms ([oauth2Token](https://www.stackage.org/haddock/lts-7.19/wreq-0.4.1.0/Network-Wreq.html#v:oauth2Token) in this case). As it turns out, those prefer ByteStrings over Text. Oh well."
   ]
  },
  {
   "cell_type": "code",
   "execution_count": 26,
   "metadata": {},
   "outputs": [],
   "source": [
    "import qualified Data.ByteString as BS\n",
    "\n",
    "githubAuth <- oauth2Token <$> BS.readFile \".github-api-token\""
   ]
  },
  {
   "cell_type": "code",
   "execution_count": 27,
   "metadata": {},
   "outputs": [],
   "source": [
    "githubUserCountryName :: GithubUser -> IO (Maybe CountryName)\n",
    "githubUserCountryName user = do\n",
    "    r <- getWith opts $ T.unpack $ githubApiUsers user\n",
    "    maybe (return Nothing) \n",
    "          (findCountryName)\n",
    "          (r ^? responseBody . key \"location\" . _String)\n",
    "    where\n",
    "        opts = defaults & auth ?~ githubAuth"
   ]
  },
  {
   "cell_type": "markdown",
   "metadata": {},
   "source": [
    "Same as with Geonames, we're basically wrapping what we did earlier in more type-safe functions. The wreq library handles Github's oauth authentication out of the box, which is great. Let's try:"
   ]
  },
  {
   "cell_type": "code",
   "execution_count": 28,
   "metadata": {},
   "outputs": [
    {
     "data": {
      "text/html": [
       "<style>/* Styles used for the Hoogle display in the pager */\n",
       ".hoogle-doc {\n",
       "display: block;\n",
       "padding-bottom: 1.3em;\n",
       "padding-left: 0.4em;\n",
       "}\n",
       ".hoogle-code {\n",
       "display: block;\n",
       "font-family: monospace;\n",
       "white-space: pre;\n",
       "}\n",
       ".hoogle-text {\n",
       "display: block;\n",
       "}\n",
       ".hoogle-name {\n",
       "color: green;\n",
       "font-weight: bold;\n",
       "}\n",
       ".hoogle-head {\n",
       "font-weight: bold;\n",
       "}\n",
       ".hoogle-sub {\n",
       "display: block;\n",
       "margin-left: 0.4em;\n",
       "}\n",
       ".hoogle-package {\n",
       "font-weight: bold;\n",
       "font-style: italic;\n",
       "}\n",
       ".hoogle-module {\n",
       "font-weight: bold;\n",
       "}\n",
       ".hoogle-class {\n",
       "font-weight: bold;\n",
       "}\n",
       ".get-type {\n",
       "color: green;\n",
       "font-weight: bold;\n",
       "font-family: monospace;\n",
       "display: block;\n",
       "white-space: pre-wrap;\n",
       "}\n",
       ".show-type {\n",
       "color: green;\n",
       "font-weight: bold;\n",
       "font-family: monospace;\n",
       "margin-left: 1em;\n",
       "}\n",
       ".mono {\n",
       "font-family: monospace;\n",
       "display: block;\n",
       "}\n",
       ".err-msg {\n",
       "color: red;\n",
       "font-style: italic;\n",
       "font-family: monospace;\n",
       "white-space: pre;\n",
       "display: block;\n",
       "}\n",
       "#unshowable {\n",
       "color: red;\n",
       "font-weight: bold;\n",
       "}\n",
       ".err-msg.in.collapse {\n",
       "padding-top: 0.7em;\n",
       "}\n",
       ".highlight-code {\n",
       "white-space: pre;\n",
       "font-family: monospace;\n",
       "}\n",
       ".suggestion-warning { \n",
       "font-weight: bold;\n",
       "color: rgb(200, 130, 0);\n",
       "}\n",
       ".suggestion-error { \n",
       "font-weight: bold;\n",
       "color: red;\n",
       "}\n",
       ".suggestion-name {\n",
       "font-weight: bold;\n",
       "}\n",
       "</style><span style='color: green; font-weight: bold;'>Just</span><span style='font-family: monospace;'>CountryName \"Switzerland\"</span>"
      ],
      "text/plain": [
       "Just (CountryName \"Switzerland\")"
      ]
     },
     "metadata": {},
     "output_type": "display_data"
    }
   ],
   "source": [
    "githubUserCountryName \"nmattia\""
   ]
  },
  {
   "cell_type": "markdown",
   "metadata": {},
   "source": [
    "The `IsString` instance that we derived for `GithubUser` is coming in really handy here (have a try with your Github nick). Next, we'll want to also get the user's country's population:"
   ]
  },
  {
   "cell_type": "code",
   "execution_count": 29,
   "metadata": {},
   "outputs": [],
   "source": [
    "{-# LANGUAGE LambdaCase #-}\n",
    "\n",
    "githubUserCountry :: GithubUser -> IO (Maybe Country)\n",
    "githubUserCountry user = githubUserCountryName user >>= \\case\n",
    "    Just cname -> countryByCountryName cname\n",
    "    Nothing    -> return Nothing"
   ]
  },
  {
   "cell_type": "code",
   "execution_count": 30,
   "metadata": {},
   "outputs": [
    {
     "data": {
      "text/html": [
       "<style>/* Styles used for the Hoogle display in the pager */\n",
       ".hoogle-doc {\n",
       "display: block;\n",
       "padding-bottom: 1.3em;\n",
       "padding-left: 0.4em;\n",
       "}\n",
       ".hoogle-code {\n",
       "display: block;\n",
       "font-family: monospace;\n",
       "white-space: pre;\n",
       "}\n",
       ".hoogle-text {\n",
       "display: block;\n",
       "}\n",
       ".hoogle-name {\n",
       "color: green;\n",
       "font-weight: bold;\n",
       "}\n",
       ".hoogle-head {\n",
       "font-weight: bold;\n",
       "}\n",
       ".hoogle-sub {\n",
       "display: block;\n",
       "margin-left: 0.4em;\n",
       "}\n",
       ".hoogle-package {\n",
       "font-weight: bold;\n",
       "font-style: italic;\n",
       "}\n",
       ".hoogle-module {\n",
       "font-weight: bold;\n",
       "}\n",
       ".hoogle-class {\n",
       "font-weight: bold;\n",
       "}\n",
       ".get-type {\n",
       "color: green;\n",
       "font-weight: bold;\n",
       "font-family: monospace;\n",
       "display: block;\n",
       "white-space: pre-wrap;\n",
       "}\n",
       ".show-type {\n",
       "color: green;\n",
       "font-weight: bold;\n",
       "font-family: monospace;\n",
       "margin-left: 1em;\n",
       "}\n",
       ".mono {\n",
       "font-family: monospace;\n",
       "display: block;\n",
       "}\n",
       ".err-msg {\n",
       "color: red;\n",
       "font-style: italic;\n",
       "font-family: monospace;\n",
       "white-space: pre;\n",
       "display: block;\n",
       "}\n",
       "#unshowable {\n",
       "color: red;\n",
       "font-weight: bold;\n",
       "}\n",
       ".err-msg.in.collapse {\n",
       "padding-top: 0.7em;\n",
       "}\n",
       ".highlight-code {\n",
       "white-space: pre;\n",
       "font-family: monospace;\n",
       "}\n",
       ".suggestion-warning { \n",
       "font-weight: bold;\n",
       "color: rgb(200, 130, 0);\n",
       "}\n",
       ".suggestion-error { \n",
       "font-weight: bold;\n",
       "color: red;\n",
       "}\n",
       ".suggestion-name {\n",
       "font-weight: bold;\n",
       "}\n",
       "</style><span style='color: green; font-weight: bold;'>Just</span><span style='font-family: monospace;'>Country {countryName = CountryName \"Switzerland\", countryPopulation = CountryPopulation 7581000}</span>"
      ],
      "text/plain": [
       "Just (Country {countryName = CountryName \"Switzerland\", countryPopulation = CountryPopulation 7581000})"
      ]
     },
     "metadata": {},
     "output_type": "display_data"
    }
   ],
   "source": [
    "githubUserCountry \"nmattia\""
   ]
  },
  {
   "cell_type": "markdown",
   "metadata": {},
   "source": [
    "Cool cool. You might now be thinking:\n",
    "\n",
    "> Well, it works and all, but it'll get costly if we have to perform requests over and over.\n",
    "\n",
    "And you'd be right! Let's build us a little cache for great good:"
   ]
  },
  {
   "cell_type": "code",
   "execution_count": 31,
   "metadata": {},
   "outputs": [],
   "source": [
    "import Control.Concurrent.MVar\n",
    "import Data.Hashable (Hashable)\n",
    "import qualified Data.HashMap.Strict as HMS\n",
    "\n",
    "-- Note: some results might be fetched twice if accessed concurrently\n",
    "cacheForever :: (Eq a, Hashable a) => (a -> IO b) -> IO (a -> IO b)\n",
    "cacheForever f = do\n",
    "    mvar <- newMVar HMS.empty\n",
    "    return $ \\k -> do mv <- HMS.lookup k <$> readMVar mvar\n",
    "                      case mv of\n",
    "                          Just v -> return v\n",
    "                          Nothing -> do v <- f k\n",
    "                                        modifyMVar_ mvar (return . HMS.insert k v)\n",
    "                                        return v"
   ]
  },
  {
   "cell_type": "markdown",
   "metadata": {},
   "source": [
    "I'm not going to go into the implementation, but it's pretty straightforward. When you pass it a function `(a -> IO b)` it spits out another one with the same signature. However that new function will store the results in a hash map, and will perform a lookup before running the function on a new value. One very important thing to note: we never expire the values. Do. Not. Use. This. In. Production. Instead go see Jasper Van der Jeugt's post on [Writing an LRU cache in Haskell](https://jaspervdj.be/posts/2015-02-24-lru-cache.html) (or simply cap the HashMap's size, I don't care, but don't use this particular implementation in production).\n",
    "\n",
    "How would we use `cacheForever`, you ask? Simple:"
   ]
  },
  {
   "cell_type": "code",
   "execution_count": 32,
   "metadata": {},
   "outputs": [],
   "source": [
    "{-# LANGUAGE StandaloneDeriving #-}\n",
    "\n",
    "deriving instance Eq       GithubUser\n",
    "deriving instance Hashable GithubUser\n",
    "\n",
    "githubUserCountry' <- cacheForever githubUserCountry"
   ]
  },
  {
   "cell_type": "markdown",
   "metadata": {},
   "source": [
    "Using the very handy [timeit](https://www.stackage.org/lts-7.19/package/timeit-1.0.0.0) package, we can (quite) convince ourselves that it does what we expect. On the first request:"
   ]
  },
  {
   "cell_type": "code",
   "execution_count": 33,
   "metadata": {},
   "outputs": [
    {
     "data": {
      "text/html": [
       "<style>/* Styles used for the Hoogle display in the pager */\n",
       ".hoogle-doc {\n",
       "display: block;\n",
       "padding-bottom: 1.3em;\n",
       "padding-left: 0.4em;\n",
       "}\n",
       ".hoogle-code {\n",
       "display: block;\n",
       "font-family: monospace;\n",
       "white-space: pre;\n",
       "}\n",
       ".hoogle-text {\n",
       "display: block;\n",
       "}\n",
       ".hoogle-name {\n",
       "color: green;\n",
       "font-weight: bold;\n",
       "}\n",
       ".hoogle-head {\n",
       "font-weight: bold;\n",
       "}\n",
       ".hoogle-sub {\n",
       "display: block;\n",
       "margin-left: 0.4em;\n",
       "}\n",
       ".hoogle-package {\n",
       "font-weight: bold;\n",
       "font-style: italic;\n",
       "}\n",
       ".hoogle-module {\n",
       "font-weight: bold;\n",
       "}\n",
       ".hoogle-class {\n",
       "font-weight: bold;\n",
       "}\n",
       ".get-type {\n",
       "color: green;\n",
       "font-weight: bold;\n",
       "font-family: monospace;\n",
       "display: block;\n",
       "white-space: pre-wrap;\n",
       "}\n",
       ".show-type {\n",
       "color: green;\n",
       "font-weight: bold;\n",
       "font-family: monospace;\n",
       "margin-left: 1em;\n",
       "}\n",
       ".mono {\n",
       "font-family: monospace;\n",
       "display: block;\n",
       "}\n",
       ".err-msg {\n",
       "color: red;\n",
       "font-style: italic;\n",
       "font-family: monospace;\n",
       "white-space: pre;\n",
       "display: block;\n",
       "}\n",
       "#unshowable {\n",
       "color: red;\n",
       "font-weight: bold;\n",
       "}\n",
       ".err-msg.in.collapse {\n",
       "padding-top: 0.7em;\n",
       "}\n",
       ".highlight-code {\n",
       "white-space: pre;\n",
       "font-family: monospace;\n",
       "}\n",
       ".suggestion-warning { \n",
       "font-weight: bold;\n",
       "color: rgb(200, 130, 0);\n",
       "}\n",
       ".suggestion-error { \n",
       "font-weight: bold;\n",
       "color: red;\n",
       "}\n",
       ".suggestion-name {\n",
       "font-weight: bold;\n",
       "}\n",
       "</style><span class='err-msg'>&lt;interactive&gt;:1:1: error:<br/>    Could not find module `System.TimeIt'<br/>    Perhaps you meant<br/>      System.Time (from old-time-1.1.0.3)<br/>      System.Timeout (from base-4.10.1.0)</span>"
      ],
      "text/plain": [
       "<interactive>:1:1: error:\n",
       "    Could not find module `System.TimeIt'\n",
       "    Perhaps you meant\n",
       "      System.Time (from old-time-1.1.0.3)\n",
       "      System.Timeout (from base-4.10.1.0)\n",
       "    Use -v to see a list of the files searched for."
      ]
     },
     "metadata": {},
     "output_type": "display_data"
    }
   ],
   "source": [
    "import System.TimeIt\n",
    "\n",
    "timeIt $ githubUserCountry' \"nmattia\""
   ]
  },
  {
   "cell_type": "markdown",
   "metadata": {},
   "source": [
    "About `100ms` for the request, ok, and on the second one:"
   ]
  },
  {
   "cell_type": "code",
   "execution_count": 24,
   "metadata": {},
   "outputs": [
    {
     "data": {
      "text/plain": [
       "CPU time:   0.00s\n",
       "Just (Country {countryName = CountryName \"Switzerland\", countryPopulation = CountryPopulation 7581000})"
      ]
     },
     "metadata": {},
     "output_type": "display_data"
    }
   ],
   "source": [
    "timeIt $ githubUserCountry' \"nmattia\""
   ]
  },
  {
   "cell_type": "markdown",
   "metadata": {},
   "source": [
    "Hurray! Zero time. _(note: it looks like timeIt calculates the CPU time, while we'd be more interested in the wall clock time. Whatever, it's just to show you that it at least kind of works.)\n",
    "\n",
    "That was it for the one-off requests, but now we have a bigger challenge on our hands: listing many contributors. Why challenge, you say? Github won't allow you to read _all_ of the contributors of a project with a single request (and you probably wouldn't want that anyway). Instead they use a pagination system, which is described [here](https://developer.github.com/guides/traversing-with-pagination/). As it turns out, wreq once again comes with support for Github's pagination:"
   ]
  },
  {
   "cell_type": "code",
   "execution_count": 25,
   "metadata": {},
   "outputs": [
    {
     "data": {
      "text/plain": [
       "Just (Link {linkURL = \"https://api.github.com/repositories/571770/contributors?page=2\", linkParams = [(\"rel\",\"next\")]})"
      ]
     },
     "metadata": {},
     "output_type": "display_data"
    }
   ],
   "source": [
    "r <- get \"https://api.github.com/repos/jgm/pandoc/contributors\"\n",
    "r ^? responseLink \"rel\" \"next\""
   ]
  },
  {
   "cell_type": "markdown",
   "metadata": {},
   "source": [
    "Basically, you can check whether there is a link to a next page (`Just Link`) or if you're at the end (`Nothing`). Cool. How should we use that, then? Well, let's get a bit crazy. We could simply write a function\n",
    "\n",
    "``` haskell\n",
    "topRepos :: Int -> IO [GithubRepo]\n",
    "topRepos = ...\n",
    "```\n",
    "\n",
    "that returns a given number of repos. But let's say (as we'll do later) that we want a specific number of _users_ not _repos_. Then you'd have to make sure that you requested enough repos to source your users from. Not ideal. Alternatively, here's another we could do:\n",
    "\n",
    "``` haskell\n",
    "topRepos :: IO [GithubRepo]\n",
    "topRepos = ...\n",
    "```\n",
    "\n",
    "You just through an `unsafeInterleaveIO` somewhere in there and it works, right? To be honest I'm not too sure. Let's go a bit crazy, but not too crazy. Let's use Conduits!"
   ]
  },
  {
   "cell_type": "code",
   "execution_count": 26,
   "metadata": {},
   "outputs": [],
   "source": [
    "{-# LANGUAGE RankNTypes #-}\n",
    "\n",
    "import Control.Monad.IO.Class (liftIO)\n",
    "import Data.ByteString.Lens\n",
    "import Data.Conduit\n",
    "import qualified Data.Conduit.Combinators as C\n",
    "\n",
    "topRepos :: T.Text -> Producer IO GithubRepo\n",
    "topRepos language = go (getWith opts $ T.unpack $ githubApiSearchRepos)\n",
    "    where \n",
    "        go req = do\n",
    "            r <- liftIO req\n",
    "            C.yieldMany $ GithubRepo <$> r ^.. responseBody . key \"items\" . values . key \"full_name\" . _String\n",
    "            case r ^? responseLink \"rel\" \"next\" of\n",
    "                Just link -> go (getWith opts $ link ^. linkURL . unpackedChars)\n",
    "                Nothing -> return ()\n",
    "        opts = defaults & param \"q\"        .~ [\"language:\" <> language]\n",
    "                        & param \"sort\"     .~ [\"stars\"]\n",
    "                        & param \"per_page\" .~ [\"100\"]\n",
    "                        & auth             ?~ githubAuth"
   ]
  },
  {
   "cell_type": "markdown",
   "metadata": {},
   "source": [
    "`topRepos` takes a language name (like, say, `\"haskell\"`) and reads the top projects from Github. Easy peasy, we perform a request, and try to `yield` the project names that we received. If downstream doesn't want any more values, well, we block there forever and nothing happens. But if they do, we'll lookup the link to the next page and repeat. And if it turns out that Github has no more values, we return, and sorry for downstream. Let's see how it works in practice:"
   ]
  },
  {
   "cell_type": "code",
   "execution_count": 27,
   "metadata": {},
   "outputs": [
    {
     "data": {
      "text/plain": [
       "GithubRepo \"jgm/pandoc\"\n",
       "GithubRepo \"begriffs/postgrest\"\n",
       "GithubRepo \"koalaman/shellcheck\"\n",
       "GithubRepo \"elm-lang/elm-compiler\"\n",
       "GithubRepo \"purescript/purescript\""
      ]
     },
     "metadata": {},
     "output_type": "display_data"
    }
   ],
   "source": [
    "topRepos \"haskell\" $$ C.take 5 =$ C.mapM_ print"
   ]
  },
  {
   "cell_type": "markdown",
   "metadata": {},
   "source": [
    "Here's the control flow: the \"downstream\" functions (the ones on the right) will ask for results from upstream (the ones on the left). The rightmost part is `C.mapM_ print`, which will print any value it manages to receive. And it's very greedy, it'll keep asking for values from upstream. And that values it receives come from `C.take 5`. That one is quite greedy as well, but doesn't have as much appetite: after having read (and forwarded) five values, it'll give up and block everybody. And those five values are provided from `topRepos`, that we just wrote, and that will happily provide values as long as it can. "
   ]
  },
  {
   "cell_type": "code",
   "execution_count": 28,
   "metadata": {},
   "outputs": [],
   "source": [
    "repoContributors :: GithubRepo -> Producer IO GithubUser\n",
    "repoContributors repo = go (getWith opts $ T.unpack $ githubApiRepoContributors repo)\n",
    "        where \n",
    "        go req = do\n",
    "            r <- liftIO req\n",
    "            C.yieldMany $ GithubUser <$> r ^.. responseBody . values . key \"login\" . _String\n",
    "            case r ^? responseLink \"rel\" \"next\" of\n",
    "                Just link -> go (getWith opts $ link ^. linkURL . unpackedChars)\n",
    "                Nothing -> return ()\n",
    "        opts = defaults & param \"per_page\" .~ [\"100\"]\n",
    "                        & auth ?~ githubAuth"
   ]
  },
  {
   "cell_type": "markdown",
   "metadata": {},
   "source": [
    "In the same vein, we now source github users from a repo. In practice:"
   ]
  },
  {
   "cell_type": "code",
   "execution_count": 29,
   "metadata": {},
   "outputs": [
    {
     "data": {
      "text/plain": [
       "GithubUser \"jgm\"\n",
       "GithubUser \"jkr\"\n",
       "GithubUser \"tarleb\"\n",
       "GithubUser \"mpickering\"\n",
       "GithubUser \"lierdakil\""
      ]
     },
     "metadata": {},
     "output_type": "display_data"
    }
   ],
   "source": [
    "repoContributors \"jgm/pandoc\" $$ C.take 5 =$= C.mapM_ print"
   ]
  },
  {
   "cell_type": "markdown",
   "metadata": {},
   "source": [
    "And now, ta da:"
   ]
  },
  {
   "cell_type": "code",
   "execution_count": 30,
   "metadata": {},
   "outputs": [
    {
     "data": {
      "text/plain": [
       "GithubUser \"jgm\"\n",
       "GithubUser \"jkr\"\n",
       "GithubUser \"tarleb\"\n",
       "GithubUser \"mpickering\"\n",
       "GithubUser \"lierdakil\""
      ]
     },
     "metadata": {},
     "output_type": "display_data"
    }
   ],
   "source": [
    "topRepos \"haskell\" $$ awaitForever repoContributors =$= C.take 5 =$ C.mapM_ print"
   ]
  },
  {
   "cell_type": "markdown",
   "metadata": {},
   "source": [
    "Using `awaitForever`, which passes the values it gets from upstream (the repos) as argument to some function (the contributors by repos).\n",
    "\n",
    "Well that's kind of nice, and we could stop there. However, we can't know for sure that a Haskeller will only ever contribute to one repo. And we want to count the number of programmers per country, not the number of project contributed per country. We'll add a last step to our pipeline (_err_, conduit) which will accumulate the users until we have enough _unique_ values (we don't really care about running in constant memory, so that's fine, but you probably don't want to use something like that when reading you petabyte files).\n",
    "\n",
    "Let's see what it looks like:"
   ]
  },
  {
   "cell_type": "code",
   "execution_count": 31,
   "metadata": {},
   "outputs": [],
   "source": [
    "import Control.Monad\n",
    "import Control.Monad.ST\n",
    "import Data.HashMap.Strict (HashMap)\n",
    "import Data.Vector (Vector)\n",
    "\n",
    "import qualified Data.Vector.Mutable as MV\n",
    "import qualified Data.Vector as V\n",
    "\n",
    "accumulateUniques :: (Eq a, Hashable a) => Int -> Sink a IO (Vector a)\n",
    "accumulateUniques n = go HMS.empty\n",
    "    where\n",
    "        go :: (Eq a, Hashable a) => HashMap a Int -> Sink a IO (Vector a)\n",
    "        go m | HMS.size m >= n = return $ toVector m\n",
    "             | otherwise       = await >>= \\case\n",
    "                                Just v -> go (HMS.insertWith (\\_ old -> old) \n",
    "                                                             v \n",
    "                                                             (HMS.size m) \n",
    "                                                             m )\n",
    "                                Nothing -> return $ toVector m\n",
    "        toVector :: HashMap a Int -> Vector a\n",
    "        toVector m = runST $ do vec <- MV.new n\n",
    "                                forM_ (HMS.toList m) (\\(k, v) -> MV.write vec v k)\n",
    "                                V.freeze vec"
   ]
  },
  {
   "cell_type": "markdown",
   "metadata": {},
   "source": [
    "We keep all the users we've seen so far in a hash map. Whenever we see a new user, we insert it as a key. That value we use is the size of the hash map right before insertion. here's what it would look like, step-by-step:\n",
    "\n",
    "```\n",
    "new user    | hashmap size | hashmap contents | action\n",
    "--------------------------------------------------------------\n",
    "\"jgm\"       | 0            | []               | insert \"jgm\" 0\n",
    "\"jkr\"       | 1            | [jgm]            | insert \"jkr\" 1\n",
    "\"jgm\"       | 2            | [jgm, jkr]       | nothing\n",
    "\"mpickering\"| 2            | [jgm, jkr]       | insert \"mpickering\" 2\n",
    "```\n",
    "\n",
    "And finally, when the hash map contains enough elements (`n`), we stop. So we build a map where all the keys are (different) users, and all the values are range from `0` to `n-1`. We can then create a vector of users, where the hash map's values are the indices, and the hash map's keys are the elements, _i.e._ the users.\n",
    "\n",
    "In practice:"
   ]
  },
  {
   "cell_type": "code",
   "execution_count": 32,
   "metadata": {},
   "outputs": [
    {
     "data": {
      "text/plain": [
       "[\"foo\",\"bar\",\"baz\"]"
      ]
     },
     "metadata": {},
     "output_type": "display_data"
    }
   ],
   "source": [
    "C.yieldMany [\"foo\", \"foo\", \"bar\", \"foo\", \"baz\"] $$ accumulateUniques 3 "
   ]
  },
  {
   "cell_type": "code",
   "execution_count": 33,
   "metadata": {},
   "outputs": [
    {
     "data": {
      "text/plain": []
     },
     "metadata": {},
     "output_type": "display_data"
    }
   ],
   "source": [
    "cs <- topRepos \"haskell\" $$ awaitForever repoContributors =$ accumulateUniques 2000"
   ]
  },
  {
   "cell_type": "code",
   "execution_count": 34,
   "metadata": {},
   "outputs": [
    {
     "data": {
      "text/plain": [
       "GithubUser \"rekahsoft\"\n",
       "GithubUser \"dacto\"\n",
       "GithubUser \"sargon\"\n",
       "GithubUser \"dpwright\"\n",
       "GithubUser \"dsferruzza\"\n",
       "GithubUser \"vtduncan\"\n",
       "GithubUser \"ericrasmussen\"\n",
       "GithubUser \"edom\"\n",
       "GithubUser \"favonia\"\n",
       "GithubUser \"wferi\""
      ]
     },
     "metadata": {},
     "output_type": "display_data"
    }
   ],
   "source": [
    "mapM_ print $ V.slice 1000 10 cs"
   ]
  },
  {
   "cell_type": "code",
   "execution_count": 35,
   "metadata": {},
   "outputs": [],
   "source": [
    "import Data.Maybe (catMaybes)\n",
    "\n",
    "--vecMapMaybe :: (a -> Maybe b) -> Vector a -> Vector b\n",
    "--vecMapMaybe f = V.fromList . mapMaybe f . V.toList \n",
    "\n",
    "vecCatMaybes :: Vector (Maybe a) -> Vector a\n",
    "vecCatMaybes = V.fromList . catMaybes . V.toList"
   ]
  },
  {
   "cell_type": "code",
   "execution_count": 36,
   "metadata": {},
   "outputs": [],
   "source": [
    "countryName' :: Country -> String\n",
    "countryName' country = let CountryName str = countryName country in T.unpack str"
   ]
  },
  {
   "cell_type": "code",
   "execution_count": 38,
   "metadata": {},
   "outputs": [
    {
     "data": {
      "text/plain": [
       "CountryName \"United States\"\n",
       "CountryName \"Germany\"\n",
       "CountryName \"United Kingdom\"\n",
       "CountryName \"Russia\"\n",
       "CountryName \"Switzerland\""
      ]
     },
     "metadata": {},
     "output_type": "display_data"
    }
   ],
   "source": [
    "ccs <- vecCatMaybes <$> mapM githubUserCountry' cs\n",
    "mapM_ print $ countryName <$> V.take 5 ccs"
   ]
  },
  {
   "cell_type": "code",
   "execution_count": 39,
   "metadata": {},
   "outputs": [],
   "source": [
    "import qualified Data.HashSet as HS\n",
    "import Data.Hashable (Hashable(..))\n",
    "\n",
    "scanUniqueCount :: (Eq a, Hashable a) => Vector a -> Vector (a,Int)\n",
    "scanUniqueCount vec = V.zip vec \n",
    "                    . V.map HS.size \n",
    "                    . V.postscanl' (flip HS.insert) HS.empty\n",
    "                    $ vec"
   ]
  },
  {
   "cell_type": "code",
   "execution_count": 40,
   "metadata": {},
   "outputs": [
    {
     "data": {
      "text/plain": [
       "[(\"foo\",1),(\"bar\",2),(\"foo\",2),(\"baz\",3),(\"qux\",4),(\"bar\",4)]"
      ]
     },
     "metadata": {},
     "output_type": "display_data"
    }
   ],
   "source": [
    "scanUniqueCount $ V.fromList [\"foo\", \"bar\", \"foo\", \"baz\", \"qux\", \"bar\"]"
   ]
  },
  {
   "cell_type": "code",
   "execution_count": 42,
   "metadata": {},
   "outputs": [],
   "source": [
    "import Data.Function (on)\n",
    "\n",
    "--deriving instance Eq CountryPopulation\n",
    "deriving instance Eq CountryName\n",
    "\n",
    "instance Eq Country where\n",
    "    (==)    = (==) `on` countryName\n",
    "instance Hashable Country where\n",
    "    hashWithSalt n c = let CountryName cname = countryName c in hashWithSalt n cname"
   ]
  },
  {
   "cell_type": "code",
   "execution_count": 44,
   "metadata": {},
   "outputs": [
    {
     "data": {
      "text/html": [
       "<style>/* Styles used for the Hoogle display in the pager */\n",
       ".hoogle-doc {\n",
       "display: block;\n",
       "padding-bottom: 1.3em;\n",
       "padding-left: 0.4em;\n",
       "}\n",
       ".hoogle-code {\n",
       "display: block;\n",
       "font-family: monospace;\n",
       "white-space: pre;\n",
       "}\n",
       ".hoogle-text {\n",
       "display: block;\n",
       "}\n",
       ".hoogle-name {\n",
       "color: green;\n",
       "font-weight: bold;\n",
       "}\n",
       ".hoogle-head {\n",
       "font-weight: bold;\n",
       "}\n",
       ".hoogle-sub {\n",
       "display: block;\n",
       "margin-left: 0.4em;\n",
       "}\n",
       ".hoogle-package {\n",
       "font-weight: bold;\n",
       "font-style: italic;\n",
       "}\n",
       ".hoogle-module {\n",
       "font-weight: bold;\n",
       "}\n",
       ".hoogle-class {\n",
       "font-weight: bold;\n",
       "}\n",
       ".get-type {\n",
       "color: green;\n",
       "font-weight: bold;\n",
       "font-family: monospace;\n",
       "display: block;\n",
       "white-space: pre-wrap;\n",
       "}\n",
       ".show-type {\n",
       "color: green;\n",
       "font-weight: bold;\n",
       "font-family: monospace;\n",
       "margin-left: 1em;\n",
       "}\n",
       ".mono {\n",
       "font-family: monospace;\n",
       "display: block;\n",
       "}\n",
       ".err-msg {\n",
       "color: red;\n",
       "font-style: italic;\n",
       "font-family: monospace;\n",
       "white-space: pre;\n",
       "display: block;\n",
       "}\n",
       "#unshowable {\n",
       "color: red;\n",
       "font-weight: bold;\n",
       "}\n",
       ".err-msg.in.collapse {\n",
       "padding-top: 0.7em;\n",
       "}\n",
       ".highlight-code {\n",
       "white-space: pre;\n",
       "font-family: monospace;\n",
       "}\n",
       ".suggestion-warning { \n",
       "font-weight: bold;\n",
       "color: rgb(200, 130, 0);\n",
       "}\n",
       ".suggestion-error { \n",
       "font-weight: bold;\n",
       "color: red;\n",
       "}\n",
       ".suggestion-name {\n",
       "font-weight: bold;\n",
       "}\n",
       "</style><img src=\"data:image/png;base64,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\">\n"
      ],
      "text/plain": [
       "<img src=\"data:image/png;base64,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\">"
      ]
     },
     "metadata": {},
     "output_type": "display_data"
    }
   ],
   "source": [
    "{-# LANGUAGE QuasiQuotes #-}\n",
    "\n",
    "import Data.Int (Int32)\n",
    "\n",
    "let xs = [0,1,2,3] :: [Int32]\n",
    "    ys = [1, 4, 60, 40] :: [Int32]--[(0,0), (1, 5), (2, 0)] :: [(Int32, Int32)]\n",
    "\n",
    "[rgraph|plot(x = xs_hs, y = ys_hs)|]"
   ]
  },
  {
   "cell_type": "code",
   "execution_count": 45,
   "metadata": {},
   "outputs": [
    {
     "data": {
      "text/html": [
       "<style>/* Styles used for the Hoogle display in the pager */\n",
       ".hoogle-doc {\n",
       "display: block;\n",
       "padding-bottom: 1.3em;\n",
       "padding-left: 0.4em;\n",
       "}\n",
       ".hoogle-code {\n",
       "display: block;\n",
       "font-family: monospace;\n",
       "white-space: pre;\n",
       "}\n",
       ".hoogle-text {\n",
       "display: block;\n",
       "}\n",
       ".hoogle-name {\n",
       "color: green;\n",
       "font-weight: bold;\n",
       "}\n",
       ".hoogle-head {\n",
       "font-weight: bold;\n",
       "}\n",
       ".hoogle-sub {\n",
       "display: block;\n",
       "margin-left: 0.4em;\n",
       "}\n",
       ".hoogle-package {\n",
       "font-weight: bold;\n",
       "font-style: italic;\n",
       "}\n",
       ".hoogle-module {\n",
       "font-weight: bold;\n",
       "}\n",
       ".hoogle-class {\n",
       "font-weight: bold;\n",
       "}\n",
       ".get-type {\n",
       "color: green;\n",
       "font-weight: bold;\n",
       "font-family: monospace;\n",
       "display: block;\n",
       "white-space: pre-wrap;\n",
       "}\n",
       ".show-type {\n",
       "color: green;\n",
       "font-weight: bold;\n",
       "font-family: monospace;\n",
       "margin-left: 1em;\n",
       "}\n",
       ".mono {\n",
       "font-family: monospace;\n",
       "display: block;\n",
       "}\n",
       ".err-msg {\n",
       "color: red;\n",
       "font-style: italic;\n",
       "font-family: monospace;\n",
       "white-space: pre;\n",
       "display: block;\n",
       "}\n",
       "#unshowable {\n",
       "color: red;\n",
       "font-weight: bold;\n",
       "}\n",
       ".err-msg.in.collapse {\n",
       "padding-top: 0.7em;\n",
       "}\n",
       ".highlight-code {\n",
       "white-space: pre;\n",
       "font-family: monospace;\n",
       "}\n",
       ".suggestion-warning { \n",
       "font-weight: bold;\n",
       "color: rgb(200, 130, 0);\n",
       "}\n",
       ".suggestion-error { \n",
       "font-weight: bold;\n",
       "color: red;\n",
       "}\n",
       ".suggestion-name {\n",
       "font-weight: bold;\n",
       "}\n",
       "</style><img src=\"data:image/png;base64,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\">\n"
      ],
      "text/plain": [
       "<img src=\"data:image/png;base64,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\">"
      ]
     },
     "metadata": {},
     "output_type": "display_data"
    }
   ],
   "source": [
    "{-# LANGUAGE QuasiQuotes #-}\n",
    "-- import Data.Int\n",
    "\n",
    "let countryCountEvolution = snd <$> scanUniqueCount ccs    --  :: Vector Int32\n",
    "    indices = V.toList $ V.enumFromN 0 (V.length countryCountEvolution) :: [] Int32\n",
    "    indiceslol = V.toList $ fromIntegral <$> countryCountEvolution :: [] Int32\n",
    "  \n",
    "-- countryCountEvolution\n",
    "[rgraph|plot(x = indices_hs, y = indiceslol_hs)|]"
   ]
  },
  {
   "cell_type": "code",
   "execution_count": 46,
   "metadata": {},
   "outputs": [
    {
     "data": {
      "text/html": [
       "<style>/* Styles used for the Hoogle display in the pager */\n",
       ".hoogle-doc {\n",
       "display: block;\n",
       "padding-bottom: 1.3em;\n",
       "padding-left: 0.4em;\n",
       "}\n",
       ".hoogle-code {\n",
       "display: block;\n",
       "font-family: monospace;\n",
       "white-space: pre;\n",
       "}\n",
       ".hoogle-text {\n",
       "display: block;\n",
       "}\n",
       ".hoogle-name {\n",
       "color: green;\n",
       "font-weight: bold;\n",
       "}\n",
       ".hoogle-head {\n",
       "font-weight: bold;\n",
       "}\n",
       ".hoogle-sub {\n",
       "display: block;\n",
       "margin-left: 0.4em;\n",
       "}\n",
       ".hoogle-package {\n",
       "font-weight: bold;\n",
       "font-style: italic;\n",
       "}\n",
       ".hoogle-module {\n",
       "font-weight: bold;\n",
       "}\n",
       ".hoogle-class {\n",
       "font-weight: bold;\n",
       "}\n",
       ".get-type {\n",
       "color: green;\n",
       "font-weight: bold;\n",
       "font-family: monospace;\n",
       "display: block;\n",
       "white-space: pre-wrap;\n",
       "}\n",
       ".show-type {\n",
       "color: green;\n",
       "font-weight: bold;\n",
       "font-family: monospace;\n",
       "margin-left: 1em;\n",
       "}\n",
       ".mono {\n",
       "font-family: monospace;\n",
       "display: block;\n",
       "}\n",
       ".err-msg {\n",
       "color: red;\n",
       "font-style: italic;\n",
       "font-family: monospace;\n",
       "white-space: pre;\n",
       "display: block;\n",
       "}\n",
       "#unshowable {\n",
       "color: red;\n",
       "font-weight: bold;\n",
       "}\n",
       ".err-msg.in.collapse {\n",
       "padding-top: 0.7em;\n",
       "}\n",
       ".highlight-code {\n",
       "white-space: pre;\n",
       "font-family: monospace;\n",
       "}\n",
       ".suggestion-warning { \n",
       "font-weight: bold;\n",
       "color: rgb(200, 130, 0);\n",
       "}\n",
       ".suggestion-error { \n",
       "font-weight: bold;\n",
       "color: red;\n",
       "}\n",
       ".suggestion-name {\n",
       "font-weight: bold;\n",
       "}\n",
       "</style><img src=\"data:image/png;base64,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\">\n"
      ],
      "text/plain": [
       "<img src=\"data:image/png;base64,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\">"
      ]
     },
     "metadata": {},
     "output_type": "display_data"
    }
   ],
   "source": [
    "pieData = [10,20,30] :: [Double]\n",
    "[rgraph|pie(c(pieData_hs))|]"
   ]
  },
  {
   "cell_type": "code",
   "execution_count": 47,
   "metadata": {},
   "outputs": [
    {
     "data": {
      "text/html": [
       "<style>/* Styles used for the Hoogle display in the pager */\n",
       ".hoogle-doc {\n",
       "display: block;\n",
       "padding-bottom: 1.3em;\n",
       "padding-left: 0.4em;\n",
       "}\n",
       ".hoogle-code {\n",
       "display: block;\n",
       "font-family: monospace;\n",
       "white-space: pre;\n",
       "}\n",
       ".hoogle-text {\n",
       "display: block;\n",
       "}\n",
       ".hoogle-name {\n",
       "color: green;\n",
       "font-weight: bold;\n",
       "}\n",
       ".hoogle-head {\n",
       "font-weight: bold;\n",
       "}\n",
       ".hoogle-sub {\n",
       "display: block;\n",
       "margin-left: 0.4em;\n",
       "}\n",
       ".hoogle-package {\n",
       "font-weight: bold;\n",
       "font-style: italic;\n",
       "}\n",
       ".hoogle-module {\n",
       "font-weight: bold;\n",
       "}\n",
       ".hoogle-class {\n",
       "font-weight: bold;\n",
       "}\n",
       ".get-type {\n",
       "color: green;\n",
       "font-weight: bold;\n",
       "font-family: monospace;\n",
       "display: block;\n",
       "white-space: pre-wrap;\n",
       "}\n",
       ".show-type {\n",
       "color: green;\n",
       "font-weight: bold;\n",
       "font-family: monospace;\n",
       "margin-left: 1em;\n",
       "}\n",
       ".mono {\n",
       "font-family: monospace;\n",
       "display: block;\n",
       "}\n",
       ".err-msg {\n",
       "color: red;\n",
       "font-style: italic;\n",
       "font-family: monospace;\n",
       "white-space: pre;\n",
       "display: block;\n",
       "}\n",
       "#unshowable {\n",
       "color: red;\n",
       "font-weight: bold;\n",
       "}\n",
       ".err-msg.in.collapse {\n",
       "padding-top: 0.7em;\n",
       "}\n",
       ".highlight-code {\n",
       "white-space: pre;\n",
       "font-family: monospace;\n",
       "}\n",
       ".suggestion-warning { \n",
       "font-weight: bold;\n",
       "color: rgb(200, 130, 0);\n",
       "}\n",
       ".suggestion-error { \n",
       "font-weight: bold;\n",
       "color: red;\n",
       "}\n",
       ".suggestion-name {\n",
       "font-weight: bold;\n",
       "}\n",
       "</style><img src=\"data:image/png;base64,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\">\n"
      ],
      "text/plain": [
       "<img src=\"data:image/png;base64,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\">"
      ]
     },
     "metadata": {},
     "output_type": "display_data"
    }
   ],
   "source": [
    "import qualified Data.HashMap.Strict as HMS\n",
    "\n",
    "let countries = HMS.toList \n",
    "              $ HMS.filter (>15) \n",
    "              $ V.foldl' (\\m c -> HMS.insertWith (+) c 1 m) HMS.empty ccs :: [(Country, Int)]\n",
    "    labels = (countryName' . fst) <$> countries :: [String]\n",
    "    occs   = (fromIntegral . snd) <$> countries :: [Int32]\n",
    "    \n",
    "[rgraph|pie(occs_hs, labels = labels_hs)|]"
   ]
  },
  {
   "cell_type": "code",
   "execution_count": 49,
   "metadata": {},
   "outputs": [],
   "source": [
    "countryRatio :: Country -> Int -> Double\n",
    "countryRatio c n = (fromIntegral n) / (fromIntegral population)\n",
    "    where (CountryPopulation population)  = countryPopulation c"
   ]
  },
  {
   "cell_type": "code",
   "execution_count": 51,
   "metadata": {},
   "outputs": [
    {
     "data": {
      "text/html": [
       "<style>/* Styles used for the Hoogle display in the pager */\n",
       ".hoogle-doc {\n",
       "display: block;\n",
       "padding-bottom: 1.3em;\n",
       "padding-left: 0.4em;\n",
       "}\n",
       ".hoogle-code {\n",
       "display: block;\n",
       "font-family: monospace;\n",
       "white-space: pre;\n",
       "}\n",
       ".hoogle-text {\n",
       "display: block;\n",
       "}\n",
       ".hoogle-name {\n",
       "color: green;\n",
       "font-weight: bold;\n",
       "}\n",
       ".hoogle-head {\n",
       "font-weight: bold;\n",
       "}\n",
       ".hoogle-sub {\n",
       "display: block;\n",
       "margin-left: 0.4em;\n",
       "}\n",
       ".hoogle-package {\n",
       "font-weight: bold;\n",
       "font-style: italic;\n",
       "}\n",
       ".hoogle-module {\n",
       "font-weight: bold;\n",
       "}\n",
       ".hoogle-class {\n",
       "font-weight: bold;\n",
       "}\n",
       ".get-type {\n",
       "color: green;\n",
       "font-weight: bold;\n",
       "font-family: monospace;\n",
       "display: block;\n",
       "white-space: pre-wrap;\n",
       "}\n",
       ".show-type {\n",
       "color: green;\n",
       "font-weight: bold;\n",
       "font-family: monospace;\n",
       "margin-left: 1em;\n",
       "}\n",
       ".mono {\n",
       "font-family: monospace;\n",
       "display: block;\n",
       "}\n",
       ".err-msg {\n",
       "color: red;\n",
       "font-style: italic;\n",
       "font-family: monospace;\n",
       "white-space: pre;\n",
       "display: block;\n",
       "}\n",
       "#unshowable {\n",
       "color: red;\n",
       "font-weight: bold;\n",
       "}\n",
       ".err-msg.in.collapse {\n",
       "padding-top: 0.7em;\n",
       "}\n",
       ".highlight-code {\n",
       "white-space: pre;\n",
       "font-family: monospace;\n",
       "}\n",
       ".suggestion-warning { \n",
       "font-weight: bold;\n",
       "color: rgb(200, 130, 0);\n",
       "}\n",
       ".suggestion-error { \n",
       "font-weight: bold;\n",
       "color: red;\n",
       "}\n",
       ".suggestion-name {\n",
       "font-weight: bold;\n",
       "}\n",
       "</style><img src=\"data:image/png;base64,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\">\n"
      ],
      "text/plain": [
       "<img src=\"data:image/png;base64,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\">"
      ]
     },
     "metadata": {},
     "output_type": "display_data"
    }
   ],
   "source": [
    "{-# LANGUAGE TupleSections #-}\n",
    "\n",
    "let countriesRel = (\\(c,n) -> (c,) $ countryRatio c n) <$> countries\n",
    "    labels = (countryName' . fst) <$> countriesRel :: [String]\n",
    "    occs   = snd <$> countriesRel :: [Double]\n",
    "[rgraph|pie(occs_hs, labels = labels_hs)|]"
   ]
  },
  {
   "cell_type": "code",
   "execution_count": 52,
   "metadata": {},
   "outputs": [
    {
     "data": {
      "text/plain": [
       "(\"Sweden\",3.7645028745031746e-6)\n",
       "(\"Switzerland\",3.4296266983247594e-6)\n",
       "(\"Australia\",2.9280870193998313e-6)\n",
       "(\"Netherlands\",1.9825773505557223e-6)\n",
       "(\"United Kingdom\",1.539733619988963e-6)\n",
       "(\"Germany\",1.4302783846171872e-6)\n",
       "(\"United States\",1.2990242107265083e-6)\n",
       "(\"Canada\",1.247067905816681e-6)\n",
       "(\"France\",4.94068178845702e-7)\n",
       "(\"Poland\",4.4155844155844157e-7)\n",
       "(\"Russia\",3.2693209762476723e-7)\n",
       "(\"Japan\",3.2210420463830053e-7)\n",
       "(\"China\",2.4059354427372327e-8)\n",
       "(\"India\",1.7901164835444847e-8)"
      ]
     },
     "metadata": {},
     "output_type": "display_data"
    }
   ],
   "source": [
    "import Data.List (sortBy)\n",
    "import Control.Arrow (first)\n",
    "\n",
    "let countriesByRatio = sortBy (flip compare `on` snd) countriesRel\n",
    "mapM_ (print . first countryName') countriesByRatio"
   ]
  },
  {
   "cell_type": "code",
   "execution_count": 53,
   "metadata": {},
   "outputs": [
    {
     "data": {
      "text/plain": [
       "(\"Sweden\",1.0)\n",
       "(\"Switzerland\",0.9110437188276524)\n",
       "(\"Australia\",0.7778150573961959)\n",
       "(\"Netherlands\",0.5266505078223311)\n",
       "(\"United Kingdom\",0.4090137984533141)\n",
       "(\"Germany\",0.37993818368539567)\n",
       "(\"United States\",0.3450719136183284)\n",
       "(\"Canada\",0.33127027588769326)\n",
       "(\"France\",0.1312439371987217)\n",
       "(\"Poland\",0.11729528606528607)\n",
       "(\"Russia\",8.68460215129772e-2)\n",
       "(\"Japan\",8.556354328214205e-2)\n",
       "(\"China\",6.391110653766626e-3)\n",
       "(\"India\",4.7552533315059235e-3)"
      ]
     },
     "metadata": {},
     "output_type": "display_data"
    }
   ],
   "source": [
    "import Control.Arrow (second)\n",
    "\n",
    "let baseline = snd $ head countriesByRatio\n",
    "    countriesToBaseline = second (/ baseline) <$> countriesByRatio\n",
    "    \n",
    "mapM_ (print . first countryName') countriesToBaseline"
   ]
  },
  {
   "cell_type": "code",
   "execution_count": 54,
   "metadata": {},
   "outputs": [],
   "source": [
    "--githubUserCountry' \"srsudar\""
   ]
  },
  {
   "cell_type": "code",
   "execution_count": null,
   "metadata": {},
   "outputs": [],
   "source": [
    "-- let ucs = vecMapMaybe snd ccs"
   ]
  },
  {
   "cell_type": "code",
   "execution_count": null,
   "metadata": {},
   "outputs": [],
   "source": [
    "--mapM_ print $ V.take 5 ucs"
   ]
  },
  {
   "cell_type": "code",
   "execution_count": null,
   "metadata": {},
   "outputs": [],
   "source": [
    "--let countries = foldl' (\\m c -> Map.insertWith (+) c 1 m) Map.empty ucs"
   ]
  },
  {
   "cell_type": "code",
   "execution_count": null,
   "metadata": {},
   "outputs": [],
   "source": [
    "--Map.size countries"
   ]
  },
  {
   "cell_type": "code",
   "execution_count": null,
   "metadata": {},
   "outputs": [],
   "source": [
    "--take 5 $ Map.assocs countries"
   ]
  },
  {
   "cell_type": "code",
   "execution_count": null,
   "metadata": {},
   "outputs": [],
   "source": [
    "--import Data.Function (on)\n",
    "--\n",
    "--instance Eq Country where\n",
    "--    (==)    = (==) `on` countryName\n",
    "--instance Ord Country where\n",
    "--    compare = compare `on` countryName"
   ]
  },
  {
   "cell_type": "code",
   "execution_count": null,
   "metadata": {},
   "outputs": [],
   "source": [
    "--{-# LANGUAGE StandaloneDeriving #-}\n",
    "--import Data.List\n",
    "--deriving instance (Ord CountryPopulation)\n",
    "--deriving instance (Eq CountryPopulation)\n",
    "--\n",
    "--let topCountries = sortBy (flip compare `on` snd) $ Map.toList countries\n",
    "--mapM_ (print . countryName' . fst) $ take 10 topCountries"
   ]
  },
  {
   "cell_type": "code",
   "execution_count": null,
   "metadata": {},
   "outputs": [],
   "source": [
    "--let countryAndRatios = map (\\(c,n) -> (c, haskellRatio c n)) $ Map.toList countries"
   ]
  },
  {
   "cell_type": "code",
   "execution_count": null,
   "metadata": {},
   "outputs": [],
   "source": [
    "--let topCountriesRatio = sortBy (flip compare `on` snd) $ Map.toList countryAndRatios"
   ]
  },
  {
   "cell_type": "code",
   "execution_count": null,
   "metadata": {},
   "outputs": [],
   "source": [
    "--let topCountriesRel = sortBy (flip compare `on` uncurry haskellRatio) $ Map.toList countries\n",
    "--mapM_ print $ take 10 topCountriesRel"
   ]
  },
  {
   "cell_type": "code",
   "execution_count": null,
   "metadata": {},
   "outputs": [],
   "source": [
    "--r <- get \"https://api.github.com/repos/jgm/pandoc/contributors\"\n",
    "--let contributors = r ^.. responseBody . values . key \"login\" . _String\n",
    "--print (r ^? responseLink \"rel\" \"next\" . linkURL)\n",
    "\n",
    "-- mapM (githubUserCountry . GithubUser) $ take 5 contributors"
   ]
  }
 ],
 "metadata": {
  "kernelspec": {
   "display_name": "Haskell",
   "language": "haskell",
   "name": "haskell"
  },
  "language_info": {
   "codemirror_mode": "ihaskell",
   "file_extension": ".hs",
   "name": "haskell",
   "version": "8.2.2"
  }
 },
 "nbformat": 4,
 "nbformat_minor": 1
}
